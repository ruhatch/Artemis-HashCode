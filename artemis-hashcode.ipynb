{
 "cells": [
  {
   "cell_type": "code",
   "execution_count": 178,
   "metadata": {
    "collapsed": false,
    "scrolled": false
   },
   "outputs": [
    {
     "name": "stderr",
     "output_type": "stream",
     "text": [
      "/usr/lib/python3.6/site-packages/ipykernel/__main__.py:37: FutureWarning: sort(columns=....) is deprecated, use sort_values(by=.....)\n"
     ]
    }
   ],
   "source": [
    "import pandas as pd\n",
    "import numpy as np\n",
    "\n",
    "file = open(\"kittens.in\", \"r\")\n",
    "params = list (map (int , file.readline().split()))\n",
    "V = params[0]\n",
    "E = params[1]\n",
    "R = params[2]\n",
    "C = params[3]\n",
    "X = params[4]\n",
    "\n",
    "videos = list (map (int , file.readline().split()))\n",
    "endpoints = []\n",
    "\n",
    "for i in range(0, E):\n",
    "    e = list (map (int , file.readline().split()))\n",
    "    f = []\n",
    "    for j in range(0 , e[1]):\n",
    "        f += [list (map (int , file.readline().split()))]\n",
    "    endpoints += [f]\n",
    "    \n",
    "requests = np.zeros((V , E))\n",
    "\n",
    "for i in range(0 , R):\n",
    "    request = list (map (int, file.readline().split()))\n",
    "    requests[(request[0],request[1])] += request[2]\n",
    "    \n",
    "tagged_requests = np.zeros((V , E , 3)).astype(object)\n",
    "\n",
    "for i in range(0 , V):\n",
    "    for j in range (0 , E):\n",
    "        tagged_requests[i , j , 0] = i\n",
    "        tagged_requests[i , j , 1] = j\n",
    "        tagged_requests[i , j , 2] = requests[i , j]\n",
    "        \n",
    "flat_tags = tagged_requests.reshape(V * E, 3)\n",
    "sorted_requests = pd.DataFrame(flat_tags).sort(2)"
   ]
  },
  {
   "cell_type": "code",
   "execution_count": 155,
   "metadata": {
    "collapsed": false
   },
   "outputs": [],
   "source": [
    "sorted_requests"
   ]
  },
  {
   "cell_type": "code",
   "execution_count": 3,
   "metadata": {
    "collapsed": true
   },
   "outputs": [],
   "source": []
  },
  {
   "cell_type": "code",
   "execution_count": 4,
   "metadata": {
    "collapsed": true
   },
   "outputs": [],
   "source": []
  },
  {
   "cell_type": "code",
   "execution_count": null,
   "metadata": {
    "collapsed": false
   },
   "outputs": [],
   "source": []
  },
  {
   "cell_type": "code",
   "execution_count": null,
   "metadata": {
    "collapsed": true
   },
   "outputs": [],
   "source": []
  }
 ],
 "metadata": {
  "kernelspec": {
   "display_name": "Python 3",
   "language": "python",
   "name": "python3"
  },
  "language_info": {
   "codemirror_mode": {
    "name": "ipython",
    "version": 3
   },
   "file_extension": ".py",
   "mimetype": "text/x-python",
   "name": "python",
   "nbconvert_exporter": "python",
   "pygments_lexer": "ipython3",
   "version": "3.6.0"
  }
 },
 "nbformat": 4,
 "nbformat_minor": 2
}
