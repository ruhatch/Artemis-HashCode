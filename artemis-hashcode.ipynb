{
 "cells": [
  {
   "cell_type": "code",
   "execution_count": 251,
   "metadata": {
    "collapsed": false,
    "scrolled": false
   },
   "outputs": [],
   "source": [
    "import pandas as pd\n",
    "import numpy as np\n",
    "\n",
    "file = open(\"kittens.in\", \"r\")\n",
    "params = list (map (int , file.readline().split()))\n",
    "V = params[0]\n",
    "E = params[1]\n",
    "R = params[2]\n",
    "C = params[3]\n",
    "X = params[4]\n",
    "\n",
    "caches = np.zeros(C) + X\n",
    "results = {}\n",
    "\n",
    "videos = list (map (int , file.readline().split()))\n",
    "endpoints = []\n",
    "\n",
    "for i in range(0, E):\n",
    "    e = list (map (int , file.readline().split()))\n",
    "    f = []\n",
    "    for j in range(0 , e[1]):\n",
    "        f += [list (map (int , file.readline().split()))]\n",
    "    endpoints += [f]\n",
    "    \n",
    "requests = np.zeros((V , E))\n",
    "\n",
    "for i in range(0 , R):\n",
    "    request = list (map (int, file.readline().split()))\n",
    "    requests[(request[0],request[1])] += request[2]\n",
    "    \n",
    "tagged_requests = np.zeros((V , E , 3)).astype(object)\n",
    "\n",
    "for i in range(0 , V):\n",
    "    for j in range (0 , E):\n",
    "        tagged_requests[i , j , 0] = i\n",
    "        tagged_requests[i , j , 1] = j\n",
    "        tagged_requests[i , j , 2] = requests[i , j] * videos[i]\n",
    "        \n",
    "flat_tags = tagged_requests.reshape(V * E, 3)\n",
    "sorted_requests = pd.DataFrame(flat_tags).sort_values(2, ascending=False).reset_index(drop=True)\n",
    "endpoint_frames = list (map ((lambda x: pd.DataFrame(x).sort_values(1).reset_index(drop=True)) , endpoints))"
   ]
  },
  {
   "cell_type": "code",
   "execution_count": null,
   "metadata": {
    "collapsed": false
   },
   "outputs": [],
   "source": [
    "for i in range(0 , R):\n",
    "    if (sorted_requests.ix[i,2] == 0):\n",
    "        break\n",
    "    cache_list = endpoint_frames[sorted_requests.ix[i,1]]\n",
    "    for j in range(0 , len(cache_list.index)):\n",
    "        if caches[cache_list.ix[j,0]] >= videos[sorted_requests.ix[i,0]]:\n",
    "            caches[cache_list.ix[j,0]] = caches[cache_list.ix[j,0]] - videos[sorted_requests.ix[i,0]]\n",
    "            if cache_list.ix[j,0] in results:\n",
    "                if videos[sorted_requests.ix[i,0]] in results[cache_list.ix[j,0]]:\n",
    "                    break\n",
    "                results[cache_list.ix[j,0]] = results[cache_list.ix[j,0]] + [sorted_requests.ix[i,0]]\n",
    "            else:\n",
    "                results[cache_list.ix[j,0]] = [sorted_requests.ix[i,0]]\n",
    "            break"
   ]
  },
  {
   "cell_type": "code",
   "execution_count": 240,
   "metadata": {
    "collapsed": false
   },
   "outputs": [
    {
     "data": {
      "text/plain": [
       "{30: [5059]}"
      ]
     },
     "execution_count": 240,
     "metadata": {},
     "output_type": "execute_result"
    }
   ],
   "source": [
    "results"
   ]
  },
  {
   "cell_type": "code",
   "execution_count": 275,
   "metadata": {
    "collapsed": false
   },
   "outputs": [],
   "source": [
    "lines = [repr (len(results)) + \"\\n\"]\n",
    "for val in test:\n",
    "    outline = repr (val)\n",
    "    for item in test[val]:\n",
    "        outline += \" \" + repr (item)\n",
    "    lines += [outline + \"\\n\"]"
   ]
  },
  {
   "cell_type": "code",
   "execution_count": 276,
   "metadata": {
    "collapsed": true
   },
   "outputs": [],
   "source": [
    "outfile = open(\"kittens.out\", \"w\")\n",
    "outfile.writelines(lines)\n",
    "outfile.close()"
   ]
  },
  {
   "cell_type": "code",
   "execution_count": null,
   "metadata": {
    "collapsed": true
   },
   "outputs": [],
   "source": []
  }
 ],
 "metadata": {
  "kernelspec": {
   "display_name": "Python 3",
   "language": "python",
   "name": "python3"
  },
  "language_info": {
   "codemirror_mode": {
    "name": "ipython",
    "version": 3
   },
   "file_extension": ".py",
   "mimetype": "text/x-python",
   "name": "python",
   "nbconvert_exporter": "python",
   "pygments_lexer": "ipython3",
   "version": "3.6.0"
  }
 },
 "nbformat": 4,
 "nbformat_minor": 2
}
