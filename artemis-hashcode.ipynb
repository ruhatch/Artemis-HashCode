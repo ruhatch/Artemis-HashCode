{
 "cells": [
  {
   "cell_type": "code",
   "execution_count": 38,
   "metadata": {
    "collapsed": false,
    "scrolled": false
   },
   "outputs": [],
   "source": [
    "import pandas as pd\n",
    "import numpy as np\n",
    "\n",
    "file = open(\"kittens.in\", \"r\")\n",
    "params = list (map (int , file.readline().split()))\n",
    "V = params[0]\n",
    "E = params[1]\n",
    "R = params[2]\n",
    "C = params[3]\n",
    "X = params[4]\n",
    "\n",
    "caches = np.zeros(C) + X\n",
    "results = {}\n",
    "\n",
    "videos = list (map (int , file.readline().split()))\n",
    "endpoints = []\n",
    "\n",
    "for i in range(0, E):\n",
    "    e = list (map (int , file.readline().split()))\n",
    "    f = []\n",
    "    for j in range(0 , e[1]):\n",
    "        listing = list (map (int , file.readline().split()))\n",
    "        diff_listing = [listing[0] , e[0] - listing[1]]\n",
    "        f += [diff_listing]\n",
    "    endpoints += [f]\n",
    "    \n",
    "def sort_endpoint(x):\n",
    "    if len(x) > 0:\n",
    "        return pd.DataFrame(x).sort_values(1, ascending=False).reset_index(drop=True)\n",
    "    else:\n",
    "        return pd.DataFrame([[0 , 0]])\n",
    "    \n",
    "endpoint_frames = list (map (sort_endpoint , endpoints))\n",
    "    \n",
    "requests = np.zeros((V , E))\n",
    "\n",
    "for i in range(0 , R):\n",
    "    request = list (map (int, file.readline().split()))\n",
    "    requests[(request[0],request[1])] += request[2]\n",
    "    \n",
    "tagged_requests = np.zeros((V , E , 3)).astype(object)\n",
    "\n",
    "for i in range(0 , V):\n",
    "    for j in range (0 , E):\n",
    "        tagged_requests[i , j , 0] = i\n",
    "        tagged_requests[i , j , 1] = j\n",
    "        tagged_requests[i , j , 2] = requests[i , j] * videos[i] * endpoint_frames[j].ix[0,1]\n",
    "        \n",
    "flat_tags = tagged_requests.reshape(V * E, 3)\n",
    "sorted_requests = pd.DataFrame(flat_tags).sort_values(2, ascending=False).reset_index(drop=True)"
   ]
  },
  {
   "cell_type": "code",
   "execution_count": 39,
   "metadata": {
    "collapsed": false
   },
   "outputs": [],
   "source": [
    "for i in range(0 , R):\n",
    "    if (sorted_requests.ix[i,2] == 0):\n",
    "        break\n",
    "    cache_list = endpoint_frames[sorted_requests.ix[i,1]]\n",
    "    for j in range(0 , len(cache_list.index)):\n",
    "        cache_id = cache_list.ix[j,0]\n",
    "        video_id = sorted_requests.ix[i,0]\n",
    "        if caches[cache_id] >= videos[video_id]:\n",
    "            if cache_id in results:\n",
    "                if video_id in results[cache_id]:\n",
    "                    break\n",
    "                caches[cache_id] = caches[cache_id] - videos[video_id]\n",
    "                results[cache_id] = results[cache_id] + [video_id]\n",
    "            else:\n",
    "                caches[cache_id] = caches[cache_id] - videos[video_id]\n",
    "                results[cache_id] = [video_id]\n",
    "            break"
   ]
  },
  {
   "cell_type": "code",
   "execution_count": 40,
   "metadata": {
    "collapsed": false
   },
   "outputs": [],
   "source": [
    "lines = [repr (len(results)) + \"\\n\"]\n",
    "for val in results:\n",
    "    outline = repr (val)\n",
    "    for item in results[val]:\n",
    "        outline += \" \" + repr (item)\n",
    "    lines += [outline + \"\\n\"]"
   ]
  },
  {
   "cell_type": "code",
   "execution_count": 41,
   "metadata": {
    "collapsed": true
   },
   "outputs": [],
   "source": [
    "outfile = open(\"kittens.out\", \"w\")\n",
    "outfile.writelines(lines)\n",
    "outfile.close()"
   ]
  },
  {
   "cell_type": "code",
   "execution_count": 21,
   "metadata": {
    "collapsed": false
   },
   "outputs": [
    {
     "data": {
      "text/html": [
       "<div>\n",
       "<table border=\"1\" class=\"dataframe\">\n",
       "  <thead>\n",
       "    <tr style=\"text-align: right;\">\n",
       "      <th></th>\n",
       "      <th>0</th>\n",
       "      <th>1</th>\n",
       "    </tr>\n",
       "  </thead>\n",
       "  <tbody>\n",
       "    <tr>\n",
       "      <th>0</th>\n",
       "      <td>1</td>\n",
       "      <td>991</td>\n",
       "    </tr>\n",
       "    <tr>\n",
       "      <th>1</th>\n",
       "      <td>0</td>\n",
       "      <td>843</td>\n",
       "    </tr>\n",
       "    <tr>\n",
       "      <th>2</th>\n",
       "      <td>2</td>\n",
       "      <td>789</td>\n",
       "    </tr>\n",
       "  </tbody>\n",
       "</table>\n",
       "</div>"
      ],
      "text/plain": [
       "   0    1\n",
       "0  1  991\n",
       "1  0  843\n",
       "2  2  789"
      ]
     },
     "execution_count": 21,
     "metadata": {},
     "output_type": "execute_result"
    }
   ],
   "source": [
    "endpoint_frames[0]"
   ]
  },
  {
   "cell_type": "code",
   "execution_count": 31,
   "metadata": {
    "collapsed": false
   },
   "outputs": [
    {
     "data": {
      "text/html": [
       "<div>\n",
       "<table border=\"1\" class=\"dataframe\">\n",
       "  <thead>\n",
       "    <tr style=\"text-align: right;\">\n",
       "      <th></th>\n",
       "      <th>0</th>\n",
       "      <th>1</th>\n",
       "    </tr>\n",
       "  </thead>\n",
       "  <tbody>\n",
       "    <tr>\n",
       "      <th>0</th>\n",
       "      <td>0</td>\n",
       "      <td>0</td>\n",
       "    </tr>\n",
       "  </tbody>\n",
       "</table>\n",
       "</div>"
      ],
      "text/plain": [
       "   0  1\n",
       "0  0  0"
      ]
     },
     "execution_count": 31,
     "metadata": {},
     "output_type": "execute_result"
    }
   ],
   "source": [
    "pd.DataFrame([[0 , 0]])"
   ]
  },
  {
   "cell_type": "code",
   "execution_count": null,
   "metadata": {
    "collapsed": true
   },
   "outputs": [],
   "source": []
  }
 ],
 "metadata": {
  "kernelspec": {
   "display_name": "Python 3",
   "language": "python",
   "name": "python3"
  },
  "language_info": {
   "codemirror_mode": {
    "name": "ipython",
    "version": 3
   },
   "file_extension": ".py",
   "mimetype": "text/x-python",
   "name": "python",
   "nbconvert_exporter": "python",
   "pygments_lexer": "ipython3",
   "version": "3.6.0"
  }
 },
 "nbformat": 4,
 "nbformat_minor": 2
}
